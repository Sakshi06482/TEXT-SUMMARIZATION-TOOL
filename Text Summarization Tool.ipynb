{
 "cells": [
  {
   "cell_type": "code",
   "execution_count": 1,
   "id": "4efceee3",
   "metadata": {},
   "outputs": [],
   "source": [
    "import nltk\n",
    "nltk.download('stopwords', quiet=True)\n",
    "from nltk.corpus import stopwords\n",
    "Stop_words = set(stopwords.words('english'))"
   ]
  },
  {
   "cell_type": "code",
   "execution_count": 2,
   "id": "62dfa3bd",
   "metadata": {},
   "outputs": [],
   "source": [
    "import heapq"
   ]
  },
  {
   "cell_type": "code",
   "execution_count": 3,
   "id": "8b8ab7a1",
   "metadata": {},
   "outputs": [],
   "source": [
    "import re"
   ]
  },
  {
   "cell_type": "code",
   "execution_count": 4,
   "id": "aaa1b380",
   "metadata": {},
   "outputs": [],
   "source": [
    "from nltk.tokenize import word_tokenize, sent_tokenize"
   ]
  },
  {
   "cell_type": "code",
   "execution_count": 5,
   "id": "3891d298",
   "metadata": {},
   "outputs": [],
   "source": [
    "def summarize_text(text, max_sentences = 3):\n",
    "    # Text cleaning\n",
    "    text = re.sub(r'\\s+', '', text)\n",
    "    text = re.sub(r'\\[[0-9]*\\]', ' ', text)\n",
    "\n",
    "    # Tokenizing sentences and words\n",
    "    sentences = sent_tokenize(text)\n",
    "    Stop_words = set(stopwords.words('english'))\n",
    "\n",
    "    word_frequencies = {}\n",
    "    for word in word_tokenize(text.lower()):\n",
    "        if word.isalpha() and word not in Stop_words:\n",
    "            if word not in word_frequencies:\n",
    "                word_frequencies[word] = 1\n",
    "            else:\n",
    "                word_frequencies[word] += 1\n",
    "\n",
    "    #Normalizing frequencies\n",
    "    max_frequency = max(word_frequencies.values(), default = 1)\n",
    "    for word in word_frequencies.keys():\n",
    "        word_frequencies[word] = (word_frequencies[word] / max_frequency)\n",
    "        \n",
    "    #Scoring sentences\n",
    "    sentence_scores = {}\n",
    "    for sentence in sentences:\n",
    "        for word in word_tokenize(sentence.lower()):\n",
    "            if word in word_frequencies:\n",
    "                if len(sentence.split(' ')) < 30:\n",
    "                     sentence_scores[sentence] = sentence_scores.get(sentence, 0) + word_frequencies[word]\n",
    "    \n",
    "    #Get top N sentences\n",
    "    summary_sentences = heapq.nlargest(max_sentences, sentence_scores, key=sentence_scores.get)\n",
    "    summary = ' '.join(summary_sentences).replace('\\n', ' ').strip()\n",
    "    return summary"
   ]
  },
  {
   "cell_type": "markdown",
   "id": "aacc098a",
   "metadata": {},
   "source": [
    "# === Example Input ==="
   ]
  },
  {
   "cell_type": "code",
   "execution_count": 6,
   "id": "c97ef5a3",
   "metadata": {},
   "outputs": [],
   "source": [
    "input_text = \"\"\"\n",
    "Artificial Intelligence (AI) is the simulation of human intelligence by machines, especially computer systems. It enables machines to learn from experience, adapt to new inputs, and perform tasks that typically require human intelligence. AI technologies include machine learning, natural language processing, robotics, and computer vision.\n",
    "\n",
    "AI has evolved from simple rule-based systems to complex neural networks that mimic human brain activity. The widespread availability of big data, increased computing power, and advanced algorithms has accelerated AI development across various sectors.\n",
    "\n",
    "One major application of AI is in healthcare, where it helps in disease diagnosis, drug discovery, and personalized treatment. In business, AI automates tasks, enhances customer service, and improves decision-making. Education systems use AI to personalize learning, while transportation benefits from AI through autonomous vehicles and traffic optimization.\n",
    "\n",
    "Despite its advantages, AI poses significant challenges. Ethical concerns, such as bias in algorithms, data privacy issues, and job displacement due to automation, need to be addressed. There is growing interest in developing responsible and transparent AI systems.\n",
    "\n",
    "AI is shaping the future by making systems smarter, faster, and more efficient. However, human oversight, ethical design, and regulation will be crucial in ensuring AI serves society positively.\n",
    "\n",
    "\"\"\""
   ]
  },
  {
   "cell_type": "markdown",
   "id": "d598e74c",
   "metadata": {},
   "source": [
    "# === Output ==="
   ]
  },
  {
   "cell_type": "code",
   "execution_count": 7,
   "id": "74d03459",
   "metadata": {},
   "outputs": [
    {
     "name": "stdout",
     "output_type": "stream",
     "text": [
      "Original Text:\n",
      "\n",
      "Artificial Intelligence (AI) is the simulation of human intelligence by machines, especially computer systems. It enables machines to learn from experience, adapt to new inputs, and perform tasks that typically require human intelligence. AI technologies include machine learning, natural language processing, robotics, and computer vision.\n",
      "\n",
      "AI has evolved from simple rule-based systems to complex neural networks that mimic human brain activity. The widespread availability of big data, increased computing power, and advanced algorithms has accelerated AI development across various sectors.\n",
      "\n",
      "One major application of AI is in healthcare, where it helps in disease diagnosis, drug discovery, and personalized treatment. In business, AI automates tasks, enhances customer service, and improves decision-making. Education systems use AI to personalize learning, while transportation benefits from AI through autonomous vehicles and traffic optimization.\n",
      "\n",
      "Despite its advantages, AI poses significant challenges. Ethical concerns, such as bias in algorithms, data privacy issues, and job displacement due to automation, need to be addressed. There is growing interest in developing responsible and transparent AI systems.\n",
      "\n",
      "AI is shaping the future by making systems smarter, faster, and more efficient. However, human oversight, ethical design, and regulation will be crucial in ensuring AI serves society positively.\n",
      "\n",
      "\n",
      "\n",
      "Summarized Text:\n",
      "ArtificialIntelligence(AI)isthesimulationofhumanintelligencebymachines,especiallycomputersystems.Itenablesmachinestolearnfromexperience,adapttonewinputs,andperformtasksthattypicallyrequirehumanintelligence.AItechnologiesincludemachinelearning,naturallanguageprocessing,robotics,andcomputervision.AIhasevolvedfromsimplerule-basedsystemstocomplexneuralnetworksthatmimichumanbrainactivity.Thewidespreadavailabilityofbigdata,increasedcomputingpower,andadvancedalgorithmshasacceleratedAIdevelopmentacrossvarioussectors.OnemajorapplicationofAIisinhealthcare,whereithelpsindiseasediagnosis,drugdiscovery,andpersonalizedtreatment.Inbusiness,AIautomatestasks,enhancescustomerservice,andimprovesdecision-making.EducationsystemsuseAItopersonalizelearning,whiletransportationbenefitsfromAIthroughautonomousvehiclesandtrafficoptimization.Despiteitsadvantages,AIposessignificantchallenges.Ethicalconcerns,suchasbiasinalgorithms,dataprivacyissues,andjobdisplacementduetoautomation,needtobeaddressed.ThereisgrowinginterestindevelopingresponsibleandtransparentAIsystems.AIisshapingthefuturebymakingsystemssmarter,faster,andmoreefficient.However,humanoversight,ethicaldesign,andregulationwillbecrucialinensuringAIservessocietypositively.\n"
     ]
    }
   ],
   "source": [
    "print(\"Original Text:\")\n",
    "print(input_text)\n",
    "print(\"\\nSummarized Text:\")\n",
    "print(summarize_text(input_text, max_sentences=3))"
   ]
  }
 ],
 "metadata": {
  "kernelspec": {
   "display_name": "Python 3",
   "language": "python",
   "name": "python3"
  },
  "language_info": {
   "codemirror_mode": {
    "name": "ipython",
    "version": 3
   },
   "file_extension": ".py",
   "mimetype": "text/x-python",
   "name": "python",
   "nbconvert_exporter": "python",
   "pygments_lexer": "ipython3",
   "version": "3.12.2"
  }
 },
 "nbformat": 4,
 "nbformat_minor": 5
}
